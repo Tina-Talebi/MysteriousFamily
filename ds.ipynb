{
 "cells": [
  {
   "cell_type": "code",
   "execution_count": 136,
   "metadata": {},
   "outputs": [],
   "source": [
    "# The values for K are is derived from the formula:  abs(sin(i+ 1))×(2**32)\n",
    "K = [\n",
    "0xd76aa478, 0xe8c7b756, 0x242070db, 0xc1bdceee,\n",
    "0xf57c0faf, 0x4787c62a, 0xa8304613, 0xfd469501,\n",
    "0x698098d8, 0x8b44f7af, 0xffff5bb1, 0x895cd7be,\n",
    "0x6b901122, 0xfd987193, 0xa679438e, 0x49b40821,\n",
    "0xf61e2562, 0xc040b340, 0x265e5a51, 0xe9b6c7aa,\n",
    "0xd62f105d, 0x02441453, 0xd8a1e681, 0xe7d3fbc8,\n",
    "0x21e1cde6, 0xc33707d6, 0xf4d50d87, 0x455a14ed,\n",
    "0xa9e3e905, 0xfcefa3f8, 0x676f02d9, 0x8d2a4c8a,\n",
    "0xfffa3942, 0x8771f681, 0x6d9d6122, 0xfde5380c,\n",
    "0xa4beea44, 0x4bdecfa9, 0xf6bb4b60, 0xbebfbc70,\n",
    "0x289b7ec6, 0xeaa127fa, 0xd4ef3085, 0x04881d05,\n",
    "0xd9d4d039, 0xe6db99e5, 0x1fa27cf8, 0xc4ac5665,\n",
    "0xf4292244, 0x432aff97, 0xab9423a7, 0xfc93a039,\n",
    "0x655b59c3, 0x8f0ccc92, 0xffeff47d, 0x85845dd1,\n",
    "0x6fa87e4f, 0xfe2ce6e0, 0xa3014314, 0x4e0811a1,\n",
    "0xf7537e82, 0xbd3af235, 0x2ad7d2bb, 0xeb86d391\n",
    "]"
   ]
  },
  {
   "cell_type": "code",
   "execution_count": 137,
   "metadata": {},
   "outputs": [],
   "source": [
    "# number of shifts\n",
    "shift = [\n",
    "    7, 12, 17, 22,\n",
    "    7, 12, 17, 22,\n",
    "    7, 12, 17, 22,\n",
    "    7, 12, 17, 22,\n",
    "    5, 9, 14, 20,\n",
    "    5, 9, 14, 20,\n",
    "    5, 9, 14, 20,\n",
    "    5, 9, 14, 20,\n",
    "    4, 11, 16, 23,\n",
    "    4, 11, 16, 23,\n",
    "    4, 11, 16, 23,\n",
    "    4, 11, 16, 23,\n",
    "    6, 10, 15, 21,\n",
    "    6, 10, 15, 21,\n",
    "    6, 10, 15, 21,\n",
    "    6, 10, 15, 21\n",
    "]"
   ]
  },
  {
   "attachments": {},
   "cell_type": "markdown",
   "metadata": {},
   "source": [
    "The MD5  F, G, H and I functions"
   ]
  },
  {
   "cell_type": "code",
   "execution_count": 138,
   "metadata": {},
   "outputs": [],
   "source": [
    "def F(B, C, D):\n",
    "    return (B & C) | ((~B) & D)\n"
   ]
  },
  {
   "cell_type": "code",
   "execution_count": 139,
   "metadata": {},
   "outputs": [],
   "source": [
    "def G(B,C,D):\n",
    "    return (B & D)| (C & (~D))"
   ]
  },
  {
   "cell_type": "code",
   "execution_count": 140,
   "metadata": {},
   "outputs": [],
   "source": [
    "def H(B, C, D):\n",
    "    return B ^ C ^ D"
   ]
  },
  {
   "cell_type": "code",
   "execution_count": 141,
   "metadata": {},
   "outputs": [],
   "source": [
    "def I(B, C, D):\n",
    "    return C ^ (B | (~D))"
   ]
  },
  {
   "attachments": {},
   "cell_type": "markdown",
   "metadata": {},
   "source": [
    "Modular addition"
   ]
  },
  {
   "cell_type": "code",
   "execution_count": 142,
   "metadata": {},
   "outputs": [],
   "source": [
    "def mod_add(X,Y):\n",
    "    Z=0x100000000\n",
    "    return (X+Y)%Z"
   ]
  },
  {
   "attachments": {},
   "cell_type": "markdown",
   "metadata": {},
   "source": [
    "Left rotate"
   ]
  },
  {
   "cell_type": "code",
   "execution_count": 143,
   "metadata": {},
   "outputs": [],
   "source": [
    "def left_rotate(x, amount):\n",
    "    x &= 0xFFFFFFFF\n",
    "    return ((x<<amount) | (x>>(32-amount))) & 0xFFFFFFFF"
   ]
  },
  {
   "attachments": {},
   "cell_type": "markdown",
   "metadata": {},
   "source": [
    "Round \n",
    "###### m_index=[\n",
    "######  [0,1,2,3,4,5,6,7,8,9,10,11,12,13,14,15],\n",
    "######    [1,6,11,0,5,10,15,4,9,14,3,8,13,2,7,12],\n",
    "######    [5,8,11,14,1,4,7,10,13,0,3,6,9,12,15,2],\n",
    "######    [0,7,14,5,12,3,10,1,8,15,6,13,4,11,2,9]\n",
    "###### ]\n",
    "    "
   ]
  },
  {
   "cell_type": "code",
   "execution_count": 144,
   "metadata": {},
   "outputs": [],
   "source": [
    "def round(A, B, C, D,M, round_num):\n",
    "    for i in range(16):\n",
    "        if round_num == 1:\n",
    "            fun_val = F(B, C, D)\n",
    "            m_index = i\n",
    "        elif round_num == 2:\n",
    "            fun_val = G(B, C, D)\n",
    "            m_index = (5*i + 1) % 16\n",
    "        elif round_num == 3:\n",
    "            fun_val = H(B, C, D)\n",
    "            m_index = (3*i + 2) % 16\n",
    "        else: \n",
    "            fun_val = I(B, C, D)\n",
    "            m_index = (7*i) % 16\n",
    "\n",
    "        fun_val = mod_add(fun_val, A)\n",
    "        fun_val = mod_add(fun_val, K[i + 16*(round_num-1)])\n",
    "        fun_val = mod_add(fun_val, int.from_bytes(M[m_index*4:(m_index+1)*4], byteorder='little'))  #???\n",
    "\n",
    "        new_B = mod_add(B , left_rotate(fun_val, shift[i + 16*(round_num-1)])) \n",
    "        A, B, C, D = D, new_B, B, C\n",
    "\n",
    "    return A, B, C, D"
   ]
  },
  {
   "attachments": {},
   "cell_type": "markdown",
   "metadata": {},
   "source": [
    "implement MD5 algorithm"
   ]
  },
  {
   "cell_type": "code",
   "execution_count": 145,
   "metadata": {},
   "outputs": [],
   "source": [
    "def MD5(message):\n",
    "    # Convert the string to binary\n",
    "    bin_string = ''.join(format(ord(c), '08b') for c in message)\n",
    "    \n",
    "    # Add padding\n",
    "    bin_string += '1'\n",
    "    len_bits = len(bin_string)\n",
    "    padding_needed = (448 - len_bits) % 512\n",
    "    bin_string += '0' * padding_needed\n",
    "    \n",
    "    # Add length\n",
    "    original_length = format(len(message) * 8, '064b')\n",
    "    bin_string += original_length\n",
    "\n",
    "    padded_message = bin_string\n",
    "\n",
    "    # Convert the binary string to bytes\n",
    "    message_bytes = int(padded_message, 2).to_bytes(len(padded_message) // 8, byteorder='little')\n",
    "\n",
    "    # initialization vectors \n",
    "    A =0x01234567\n",
    "    B =0x89abcdef\n",
    "    C =0xfedcba98\n",
    "    D =0x76543210\n",
    "  \n",
    "\n",
    "    # Process each 512-bit chunk\n",
    "    for i in range(0, len(message_bytes), 64):\n",
    "        M = message_bytes[i:i+64]\n",
    "        A_temp, B_temp, C_temp, D_temp = A, B, C, D\n",
    "        for round_num in range(1, 5):\n",
    "            A_temp, B_temp, C_temp, D_temp = round(A_temp, B_temp, C_temp, D_temp, M, round_num)\n",
    "            A = mod_add(A,A_temp)\n",
    "            B = mod_add(B,B_temp)\n",
    "            C = mod_add(C,C_temp)\n",
    "            D = mod_add(D,D_temp)\n",
    "           \n",
    "    \n",
    "    return (A.to_bytes(4, byteorder='little') +\n",
    "            B.to_bytes(4, byteorder='little') +\n",
    "            C.to_bytes(4, byteorder='little') +\n",
    "            D.to_bytes(4, byteorder='little')).hex()\n"
   ]
  },
  {
   "attachments": {},
   "cell_type": "markdown",
   "metadata": {},
   "source": [
    "Round1 "
   ]
  },
  {
   "cell_type": "code",
   "execution_count": 146,
   "metadata": {},
   "outputs": [
    {
     "name": "stdout",
     "output_type": "stream",
     "text": [
      "a8d05dc0de4f81236fbd2bed92529353\n"
     ]
    }
   ],
   "source": [
    "print(MD5('Hello world'))\n",
    "    "
   ]
  },
  {
   "cell_type": "markdown",
   "metadata": {},
   "source": [
    "implement family tree"
   ]
  },
  {
   "cell_type": "code",
   "execution_count": 147,
   "metadata": {},
   "outputs": [],
   "source": [
    "from collections import deque\n",
    "class Node:\n",
    "    def __init__(self, name, parent=None):\n",
    "        self.name = name\n",
    "        self.parent = parent\n",
    "        self.children = set()\n",
    "        self.siblings = set()\n",
    "        self.connections = set()\n",
    "\n",
    "class FamilyTree:\n",
    "    def __init__(self):\n",
    "        self.nodes = {}                \n",
    "       \n",
    "\n",
    "    def add_node(self, child_name, parent_name=None):\n",
    "        if parent_name is not None and parent_name not in self.nodes:\n",
    "            self.nodes[parent_name] = Node(parent_name)\n",
    "          \n",
    "        if child_name not in self.nodes:\n",
    "            self.nodes[child_name] = Node(child_name, parent_name)\n",
    "          \n",
    "\n",
    "        if parent_name is not None:\n",
    "            parent_node = self.nodes[parent_name]\n",
    "            child_node = self.nodes[child_name]\n",
    "            parent_node.children.add(child_node)\n",
    "            child_node.parent = parent_node\n",
    "            parent_node.connections.add(child_node)\n",
    "            child_node.connections.add(parent_node)\n",
    "\n",
    "            for sibling in parent_node.children:\n",
    "                if sibling != child_node:\n",
    "                    child_node.siblings.add(sibling)\n",
    "                    sibling.siblings.add(child_node)\n",
    "\n",
    "\n",
    "    def find(self, name):\n",
    "        return name in self.nodes\n",
    "    \n",
    "    def remove_node(self, node_name):\n",
    "        if node_name not in self.nodes:\n",
    "            raise ValueError(f\"Node {node_name} does not exist in the graph.\")\n",
    "            \n",
    "        node = self.nodes[node_name]\n",
    "        \n",
    "        if node.parent is not None:\n",
    "            node.parent.children.remove(node)\n",
    "        \n",
    "        for sibling in node.siblings:\n",
    "            sibling.siblings.remove(node)\n",
    "        \n",
    "        for child in node.children:\n",
    "            child.parent = node.parent\n",
    "            if node.parent is not None:\n",
    "                node.parent.children.add(child)\n",
    "        \n",
    "        del self.nodes[node_name]\n",
    "\n",
    "\n",
    "    # def is_ancestor(self, ancestor, descendant):\n",
    "    #     if self.find(ancestor) and self.find(descendant):\n",
    "    #         while descendant is not None:\n",
    "    #             if descendant in self.nodes[ancestor].children:\n",
    "    #                 return True\n",
    "    #             descendant = self.nodes[descendant].parent\n",
    "    #         return False\n",
    "    #     else:\n",
    "    #         raise ValueError(\"One or both nodes do not exist.\")\n",
    "    def is_ancestor(self, ancestor_name, descendant_name):\n",
    "        if self.find(ancestor_name) and self.find(descendant_name):\n",
    "            while descendant_name is not None:\n",
    "                if descendant_name in [child.name for child in self.nodes[ancestor_name].children]:\n",
    "                    return True\n",
    "                descendant_name = self.nodes[descendant_name].parent.name if self.nodes[descendant_name].parent else None\n",
    "            return False\n",
    "        else:\n",
    "            raise ValueError(\"One or both nodes do not exist.\")\n",
    "\n",
    "\n",
    "\n",
    "    def common_Parent(self, name1, name2):\n",
    "        if self.find(name1) and self.find(name2):\n",
    "            ancestors1 = set()\n",
    "            current_name = name1\n",
    "            while current_name is not None:\n",
    "                ancestors1.add(current_name)\n",
    "                current_name = self.nodes[current_name].parent.name if self.nodes[current_name].parent else None\n",
    "\n",
    "            current_name = name2\n",
    "            while current_name is not None:\n",
    "                if current_name in ancestors1:\n",
    "                    return current_name,MD5(current_name)\n",
    "                current_name = self.nodes[current_name].parent.name if self.nodes[current_name].parent else None\n",
    "        else:\n",
    "            raise ValueError(\"One or both nodes do not exist.\")\n",
    "\n",
    "\n",
    "    def has_relation(self,name1,name2):\n",
    "        if self.find(name1) and self.find(name2):\n",
    "            if self.common_Parent(name1,name2) and not (self.is_ancestor(name1,name2) and self.is_ancestor(name2,name1)):\n",
    "                return True \n",
    "            return False\n",
    "        else:\n",
    "            raise ValueError(\"One or both nodes do not exist.\")\n",
    "\n",
    "    def furthest_child(self, name):\n",
    "        if name in self.nodes:\n",
    "            node = self.nodes[name]\n",
    "\n",
    "            if node.children:\n",
    "                max_depth, furthest_child = max((self.furthest_child(child.name) for child in node.children), key=lambda x: x[0])\n",
    "                return 1 + max_depth, furthest_child\n",
    "            else:\n",
    "                return 0, node\n",
    "        else:\n",
    "            raise ValueError(\"One or both nodes do not exist.\")\n",
    "\n",
    "    def __find_root(self):\n",
    "        for name, node in self.nodes.items():\n",
    "            if node.parent is None:\n",
    "                return name\n",
    "        return None\n",
    "     \n",
    "\n",
    "    def __bfs(self, start):\n",
    "        visited = {name: False for name in self.nodes}\n",
    "        distance = {name: 0 for name in self.nodes}\n",
    "        queue = deque([start])\n",
    "        visited[start] = True\n",
    "\n",
    "        while queue:\n",
    "            node = queue.popleft()\n",
    "            for neighbour in self.nodes[node].connections:\n",
    "                if neighbour.name in visited and not visited[neighbour.name]:\n",
    "                    queue.append(neighbour.name)\n",
    "                    visited[neighbour.name] = True\n",
    "                    distance[neighbour.name] = distance[node] + 1\n",
    "\n",
    "        max_distance_node = max(distance, key=distance.get)\n",
    "        return max_distance_node, distance[max_distance_node]\n",
    "\n",
    "\n",
    "    def find_diameter(self):\n",
    "        root = self.__find_root()\n",
    "        # First BFS to find one end point of the longest path\n",
    "        node, _ = self.__bfs(root)\n",
    "\n",
    "        # Second BFS to find the actual longest path\n",
    "        second_node, diameter = self.__bfs(node)\n",
    "\n",
    "        return node,second_node,diameter\n",
    "\n",
    "\n"
   ]
  },
  {
   "attachments": {},
   "cell_type": "markdown",
   "metadata": {},
   "source": [
    "family members"
   ]
  },
  {
   "cell_type": "code",
   "execution_count": 148,
   "metadata": {},
   "outputs": [],
   "source": [
    "tree=FamilyTree()\n",
    "tree.add_node('Fatemeh(Ali)','Mohammad(Zahra)')\n",
    "tree.add_node('Hossein(Motahareh)','Fatemeh(Ali)')\n",
    "tree.add_node('Yazdan','Hossein(Motahareh)')\n",
    "tree.add_node('Reza(Aliyeh)','Mohammad(Zahra)')\n",
    "tree.add_node('Mehrzad(Razieh)','Mohammad(Zahra)')\n",
    "tree.add_node('Mohammad','Mehrzad(Razieh)')\n",
    "tree.add_node('Yalda(Mojtaba)','Fatemeh(Ali)')\n",
    "tree.add_node('sana', 'Reza(Aliyeh)')\n",
    "\n"
   ]
  },
  {
   "cell_type": "code",
   "execution_count": 149,
   "metadata": {},
   "outputs": [
    {
     "data": {
      "image/png": "[encoded data removed]",
      "text/plain": [
       "<Figure size 640x480 with 1 Axes>"
      ]
     },
     "metadata": {},
     "output_type": "display_data"
    }
   ],
   "source": [
    "import matplotlib.pyplot as plt\n",
    "import networkx as nx\n",
    "\n",
    "def draw_tree():\n",
    " \n",
    "    graph_data = {}\n",
    "    \n",
    "    for name, node in tree.nodes.items():\n",
    "        childs = []\n",
    "        for child in node.children:\n",
    "            childs.append(child.name)\n",
    "        \n",
    "        graph_data[name] = childs\n",
    "        \n",
    "    G = nx.from_dict_of_lists(graph_data, create_using=nx.DiGraph)\n",
    "\n",
    "    pos = nx.spring_layout(G)  \n",
    "    nx.draw(G, pos, with_labels=True, node_size=700, node_color='pink', font_size=6, font_color='black', font_weight='bold', edge_color='gray', linewidths=1, arrowsize=20)\n",
    "\n",
    "    plt.show()\n",
    "\n",
    "draw_tree()  \n"
   ]
  },
  {
   "cell_type": "code",
   "execution_count": 150,
   "metadata": {},
   "outputs": [
    {
     "name": "stdout",
     "output_type": "stream",
     "text": [
      "True\n",
      "True\n"
     ]
    }
   ],
   "source": [
    "print(tree.find('sana'))\n",
    "print(tree.find('Mehrzad(Razieh)'))"
   ]
  },
  {
   "cell_type": "code",
   "execution_count": 151,
   "metadata": {},
   "outputs": [
    {
     "name": "stdout",
     "output_type": "stream",
     "text": [
      "False\n"
     ]
    }
   ],
   "source": [
    "tree.remove_node('sana')\n",
    "print(tree.find('sana'))"
   ]
  },
  {
   "cell_type": "code",
   "execution_count": 152,
   "metadata": {},
   "outputs": [
    {
     "data": {
      "image/png": "[encoded data removed]",
      "text/plain": [
       "<Figure size 640x480 with 1 Axes>"
      ]
     },
     "metadata": {},
     "output_type": "display_data"
    }
   ],
   "source": [
    "draw_tree()"
   ]
  },
  {
   "cell_type": "code",
   "execution_count": 153,
   "metadata": {},
   "outputs": [
    {
     "name": "stdout",
     "output_type": "stream",
     "text": [
      "False\n"
     ]
    }
   ],
   "source": [
    "tree.remove_node('Mehrzad(Razieh)')\n",
    "print(tree.find('Mehrzad(Razieh)'))"
   ]
  },
  {
   "cell_type": "code",
   "execution_count": 154,
   "metadata": {},
   "outputs": [
    {
     "name": "stdout",
     "output_type": "stream",
     "text": [
      "False\n"
     ]
    }
   ],
   "source": [
    "print(tree.find('Mehrzad(Razieh)'))"
   ]
  },
  {
   "cell_type": "code",
   "execution_count": 155,
   "metadata": {},
   "outputs": [
    {
     "data": {
      "image/png": "[encoded data removed]",
      "text/plain": [
       "<Figure size 640x480 with 1 Axes>"
      ]
     },
     "metadata": {},
     "output_type": "display_data"
    }
   ],
   "source": [
    "draw_tree()"
   ]
  },
  {
   "cell_type": "code",
   "execution_count": 156,
   "metadata": {},
   "outputs": [
    {
     "name": "stdout",
     "output_type": "stream",
     "text": [
      "distance: 3\n",
      "furthest child: ('Yazdan', '35584686def1e36569939c21b3b82ef7')\n"
     ]
    }
   ],
   "source": [
    "dist,node=tree.furthest_child('Mohammad(Zahra)')\n",
    "print(f'distance: {dist}')\n",
    "print(f'furthest child: {node.name,(MD5(node.name))}')\n",
    "\n"
   ]
  },
  {
   "cell_type": "code",
   "execution_count": 157,
   "metadata": {},
   "outputs": [
    {
     "name": "stdout",
     "output_type": "stream",
     "text": [
      "the furthest relation is between ('Yazdan', '35584686def1e36569939c21b3b82ef7') and ('Reza(Aliyeh)', '99a63a85e528e7c1322e404042bab7ee')  distance=4\n"
     ]
    }
   ],
   "source": [
    "first,second,dist=tree.find_diameter()\n",
    "\n",
    "print(f'the furthest relation is between {(first ,(MD5(first)))} and {(second,(MD5(second)))}  distance={dist}')\n"
   ]
  },
  {
   "cell_type": "code",
   "execution_count": 158,
   "metadata": {},
   "outputs": [
    {
     "data": {
      "text/plain": [
       "('Fatemeh(Ali)', 'bf2550df4c75c28c6e86fc7be6d2e70a')"
      ]
     },
     "execution_count": 158,
     "metadata": {},
     "output_type": "execute_result"
    }
   ],
   "source": [
    "tree.common_Parent('Hossein(Motahareh)','Yalda(Mojtaba)')"
   ]
  },
  {
   "cell_type": "code",
   "execution_count": 159,
   "metadata": {},
   "outputs": [
    {
     "data": {
      "text/plain": [
       "False"
      ]
     },
     "execution_count": 159,
     "metadata": {},
     "output_type": "execute_result"
    }
   ],
   "source": [
    "tree.is_ancestor('Yazdan','Hossein(Motahareh)')"
   ]
  },
  {
   "cell_type": "code",
   "execution_count": 160,
   "metadata": {},
   "outputs": [
    {
     "data": {
      "text/plain": [
       "True"
      ]
     },
     "execution_count": 160,
     "metadata": {},
     "output_type": "execute_result"
    }
   ],
   "source": [
    "tree.is_ancestor('Hossein(Motahareh)','Yazdan')"
   ]
  },
  {
   "cell_type": "code",
   "execution_count": 163,
   "metadata": {},
   "outputs": [
    {
     "data": {
      "text/plain": [
       "True"
      ]
     },
     "execution_count": 163,
     "metadata": {},
     "output_type": "execute_result"
    }
   ],
   "source": [
    "tree.has_relation('Mohammad','Yazdan')"
   ]
  },
  {
   "cell_type": "code",
   "execution_count": 162,
   "metadata": {},
   "outputs": [
    {
     "ename": "ValueError",
     "evalue": "One or both nodes do not exist.",
     "output_type": "error",
     "traceback": [
      "\u001b[1;31m---------------------------------------------------------------------------\u001b[0m",
      "\u001b[1;31mValueError\u001b[0m                                Traceback (most recent call last)",
      "Cell \u001b[1;32mIn[162], line 1\u001b[0m\n\u001b[1;32m----> 1\u001b[0m tree\u001b[39m.\u001b[39;49mhas_relation(\u001b[39m'\u001b[39;49m\u001b[39mtina\u001b[39;49m\u001b[39m'\u001b[39;49m,\u001b[39m'\u001b[39;49m\u001b[39mYazdan\u001b[39;49m\u001b[39m'\u001b[39;49m)\n",
      "Cell \u001b[1;32mIn[147], line 104\u001b[0m, in \u001b[0;36mFamilyTree.has_relation\u001b[1;34m(self, name1, name2)\u001b[0m\n\u001b[0;32m    102\u001b[0m     \u001b[39mreturn\u001b[39;00m \u001b[39mFalse\u001b[39;00m\n\u001b[0;32m    103\u001b[0m \u001b[39melse\u001b[39;00m:\n\u001b[1;32m--> 104\u001b[0m     \u001b[39mraise\u001b[39;00m \u001b[39mValueError\u001b[39;00m(\u001b[39m\"\u001b[39m\u001b[39mOne or both nodes do not exist.\u001b[39m\u001b[39m\"\u001b[39m)\n",
      "\u001b[1;31mValueError\u001b[0m: One or both nodes do not exist."
     ]
    }
   ],
   "source": [
    "tree.has_relation('tina','Yazdan')"
   ]
  },
  {
   "cell_type": "code",
   "execution_count": null,
   "metadata": {},
   "outputs": [],
   "source": []
  }
 ],
 "metadata": {
  "kernelspec": {
   "display_name": "Python 3",
   "language": "python",
   "name": "python3"
  },
  "language_info": {
   "codemirror_mode": {
    "name": "ipython",
    "version": 3
   },
   "file_extension": ".py",
   "mimetype": "text/x-python",
   "name": "python",
   "nbconvert_exporter": "python",
   "pygments_lexer": "ipython3",
   "version": "3.11.4"
  },
  "orig_nbformat": 4,
  "vscode": {
   "interpreter": {
    "hash": "f25e326473684987c1a9369ad828bbb67aca27a5119f6ca26ab51111810f29e9"
   }
  }
 },
 "nbformat": 4,
 "nbformat_minor": 2
}
