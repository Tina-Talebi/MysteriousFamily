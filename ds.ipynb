{
 "cells": [
  {
   "cell_type": "code",
   "execution_count": 3,
   "metadata": {},
   "outputs": [],
   "source": [
    "# The values for K are is derived from the formula:  abs(sin(i+ 1))×(2**32)\n",
    "K = [\n",
    "0xd76aa478, 0xe8c7b756, 0x242070db, 0xc1bdceee,\n",
    "0xf57c0faf, 0x4787c62a, 0xa8304613, 0xfd469501,\n",
    "0x698098d8, 0x8b44f7af, 0xffff5bb1, 0x895cd7be,\n",
    "0x6b901122, 0xfd987193, 0xa679438e, 0x49b40821,\n",
    "0xf61e2562, 0xc040b340, 0x265e5a51, 0xe9b6c7aa,\n",
    "0xd62f105d, 0x02441453, 0xd8a1e681, 0xe7d3fbc8,\n",
    "0x21e1cde6, 0xc33707d6, 0xf4d50d87, 0x455a14ed,\n",
    "0xa9e3e905, 0xfcefa3f8, 0x676f02d9, 0x8d2a4c8a,\n",
    "0xfffa3942, 0x8771f681, 0x6d9d6122, 0xfde5380c,\n",
    "0xa4beea44, 0x4bdecfa9, 0xf6bb4b60, 0xbebfbc70,\n",
    "0x289b7ec6, 0xeaa127fa, 0xd4ef3085, 0x04881d05,\n",
    "0xd9d4d039, 0xe6db99e5, 0x1fa27cf8, 0xc4ac5665,\n",
    "0xf4292244, 0x432aff97, 0xab9423a7, 0xfc93a039,\n",
    "0x655b59c3, 0x8f0ccc92, 0xffeff47d, 0x85845dd1,\n",
    "0x6fa87e4f, 0xfe2ce6e0, 0xa3014314, 0x4e0811a1,\n",
    "0xf7537e82, 0xbd3af235, 0x2ad7d2bb, 0xeb86d391\n",
    "]"
   ]
  },
  {
   "cell_type": "code",
   "execution_count": 4,
   "metadata": {},
   "outputs": [],
   "source": [
    "# number of shifts\n",
    "shift = [\n",
    "    7, 12, 17, 22,\n",
    "    7, 12, 17, 22,\n",
    "    7, 12, 17, 22,\n",
    "    7, 12, 17, 22,\n",
    "    5, 9, 14, 20,\n",
    "    5, 9, 14, 20,\n",
    "    5, 9, 14, 20,\n",
    "    5, 9, 14, 20,\n",
    "    4, 11, 16, 23,\n",
    "    4, 11, 16, 23,\n",
    "    4, 11, 16, 23,\n",
    "    4, 11, 16, 23,\n",
    "    6, 10, 15, 21,\n",
    "    6, 10, 15, 21,\n",
    "    6, 10, 15, 21,\n",
    "    6, 10, 15, 21\n",
    "]"
   ]
  },
  {
   "attachments": {},
   "cell_type": "markdown",
   "metadata": {},
   "source": [
    "The MD5  F, G, H and I functions"
   ]
  },
  {
   "cell_type": "code",
   "execution_count": 5,
   "metadata": {},
   "outputs": [],
   "source": [
    "def F(B, C, D):\n",
    "    return (B & C) | ((~B) & D)\n"
   ]
  },
  {
   "cell_type": "code",
   "execution_count": 6,
   "metadata": {},
   "outputs": [],
   "source": [
    "def G(B,C,D):\n",
    "    return (B & D)| (C & (~D))"
   ]
  },
  {
   "cell_type": "code",
   "execution_count": 7,
   "metadata": {},
   "outputs": [],
   "source": [
    "def H(B, C, D):\n",
    "    return B ^ C ^ D"
   ]
  },
  {
   "cell_type": "code",
   "execution_count": 8,
   "metadata": {},
   "outputs": [],
   "source": [
    "def I(B, C, D):\n",
    "    return C ^ (B | (~D))"
   ]
  },
  {
   "attachments": {},
   "cell_type": "markdown",
   "metadata": {},
   "source": [
    "Modular addition"
   ]
  },
  {
   "cell_type": "code",
   "execution_count": 9,
   "metadata": {},
   "outputs": [],
   "source": [
    "def mod_add(X,Y):\n",
    "    Z=0x100000000\n",
    "    return (X+Y)%Z"
   ]
  },
  {
   "attachments": {},
   "cell_type": "markdown",
   "metadata": {},
   "source": [
    "Left rotate"
   ]
  },
  {
   "cell_type": "code",
   "execution_count": 10,
   "metadata": {},
   "outputs": [],
   "source": [
    "def left_rotate(x, amount):\n",
    "    x &= 0xFFFFFFFF\n",
    "    return ((x<<amount) | (x>>(32-amount))) & 0xFFFFFFFF"
   ]
  },
  {
   "attachments": {},
   "cell_type": "markdown",
   "metadata": {},
   "source": [
    "Round \n",
    "###### m_index=[\n",
    "######  [0,1,2,3,4,5,6,7,8,9,10,11,12,13,14,15],\n",
    "######    [1,6,11,0,5,10,15,4,9,14,3,8,13,2,7,12],\n",
    "######    [5,8,11,14,1,4,7,10,13,0,3,6,9,12,15,2],\n",
    "######    [0,7,14,5,12,3,10,1,8,15,6,13,4,11,2,9]\n",
    "###### ]\n",
    "    "
   ]
  },
  {
   "cell_type": "code",
   "execution_count": 11,
   "metadata": {},
   "outputs": [],
   "source": [
    "def round(A, B, C, D,M, round_num):\n",
    "    for i in range(16):\n",
    "        if round_num == 1:\n",
    "            fun_val = F(B, C, D)\n",
    "            m_index = i\n",
    "        elif round_num == 2:\n",
    "            fun_val = G(B, C, D)\n",
    "            m_index = (5*i + 1) % 16\n",
    "        elif round_num == 3:\n",
    "            fun_val = H(B, C, D)\n",
    "            m_index = (3*i + 2) % 16\n",
    "        else: \n",
    "            fun_val = I(B, C, D)\n",
    "            m_index = (7*i) % 16\n",
    "\n",
    "        fun_val = mod_add(fun_val, A)\n",
    "        fun_val = mod_add(fun_val, K[i + 16*(round_num-1)])\n",
    "        fun_val = mod_add(fun_val, int.from_bytes(M[m_index*4:(m_index+1)*4], byteorder='little'))  #???\n",
    "\n",
    "        new_B = mod_add(B , left_rotate(fun_val, shift[i + 16*(round_num-1)])) \n",
    "        A, B, C, D = D, new_B, B, C\n",
    "\n",
    "    return A, B, C, D"
   ]
  },
  {
   "attachments": {},
   "cell_type": "markdown",
   "metadata": {},
   "source": [
    "implement MD5 algorithm"
   ]
  },
  {
   "cell_type": "code",
   "execution_count": 12,
   "metadata": {},
   "outputs": [],
   "source": [
    "def MD5(message):\n",
    "    # Convert the string to binary\n",
    "    bin_string = ''.join(format(ord(c), '08b') for c in message)\n",
    "    \n",
    "    # Add padding\n",
    "    bin_string += '1'\n",
    "    len_bits = len(bin_string)\n",
    "    padding_needed = (448 - len_bits) % 512\n",
    "    bin_string += '0' * padding_needed\n",
    "    \n",
    "    # Add length\n",
    "    original_length = format(len(message) * 8, '064b')\n",
    "    bin_string += original_length\n",
    "\n",
    "    padded_message = bin_string\n",
    "\n",
    "    # Convert the binary string to bytes\n",
    "    message_bytes = int(padded_message, 2).to_bytes(len(padded_message) // 8, byteorder='little')\n",
    "\n",
    "    # initialization vectors \n",
    "    A =0x01234567\n",
    "    B =0x89abcdef\n",
    "    C =0xfedcba98\n",
    "    D =0x76543210\n",
    "  \n",
    "\n",
    "    # Process each 512-bit chunk\n",
    "    for i in range(0, len(message_bytes), 64):\n",
    "        M = message_bytes[i:i+64]\n",
    "        A_temp, B_temp, C_temp, D_temp = A, B, C, D\n",
    "        for round_num in range(1, 5):\n",
    "            A_temp, B_temp, C_temp, D_temp = round(A_temp, B_temp, C_temp, D_temp, M, round_num)\n",
    "            A = mod_add(A,A_temp)\n",
    "            B = mod_add(B,B_temp)\n",
    "            C = mod_add(C,C_temp)\n",
    "            D = mod_add(D,D_temp)\n",
    "           \n",
    "    \n",
    "    return (A.to_bytes(4, byteorder='little') +\n",
    "            B.to_bytes(4, byteorder='little') +\n",
    "            C.to_bytes(4, byteorder='little') +\n",
    "            D.to_bytes(4, byteorder='little')).hex()\n"
   ]
  },
  {
   "attachments": {},
   "cell_type": "markdown",
   "metadata": {},
   "source": [
    "Round1 "
   ]
  },
  {
   "cell_type": "code",
   "execution_count": 13,
   "metadata": {},
   "outputs": [
    {
     "name": "stdout",
     "output_type": "stream",
     "text": [
      "a8d05dc0de4f81236fbd2bed92529353\n"
     ]
    }
   ],
   "source": [
    "print(MD5('Hello world'))\n",
    "    "
   ]
  },
  {
   "cell_type": "code",
   "execution_count": 27,
   "metadata": {},
   "outputs": [],
   "source": [
    "from collections import deque\n",
    "class Node:\n",
    "    def __init__(self, name, parent=None):\n",
    "        self.name = name\n",
    "        self.parent = parent\n",
    "        self.children = set()\n",
    "        self.siblings = set()\n",
    "        self.connections = set()\n",
    "\n",
    "class FamilyTree:\n",
    "    def __init__(self):\n",
    "        self.nodes = {}                \n",
    "        self.node_indices = {}\n",
    "        self.index_counter = 0\n",
    "\n",
    "    def add_node(self, child_name, parent_name=None):\n",
    "        if parent_name is not None and parent_name not in self.nodes:\n",
    "            self.nodes[parent_name] = Node(parent_name)\n",
    "            self.node_indices[parent_name] = self.index_counter\n",
    "            self.index_counter += 1\n",
    "        if child_name not in self.nodes:\n",
    "            self.nodes[child_name] = Node(child_name, parent_name)\n",
    "            self.node_indices[child_name] = self.index_counter\n",
    "            self.index_counter += 1\n",
    "\n",
    "        if parent_name is not None:\n",
    "            parent_node = self.nodes[parent_name]\n",
    "            child_node = self.nodes[child_name]\n",
    "            parent_node.children.add(child_node)\n",
    "            child_node.parent = parent_node\n",
    "            parent_node.connections.add(child_node)\n",
    "            child_node.connections.add(parent_node)\n",
    "\n",
    "            for sibling in parent_node.children:\n",
    "                if sibling != child_node:\n",
    "                    child_node.siblings.add(sibling)\n",
    "                    sibling.siblings.add(child_node)\n",
    "\n",
    "\n",
    "    def find(self, name):\n",
    "        return name in self.nodes\n",
    "\n",
    "    def delete_node(self, name):\n",
    "        if not self.find(name):\n",
    "            raise ValueError(f\"Node '{name}' does not exist.\")\n",
    "        else:\n",
    "            if len(self.nodes[name].children) != 0:\n",
    "                for child in self.nodes[name].children:\n",
    "                    self.nodes[child.name].parent = None\n",
    "            del self.nodes[name]\n",
    "\n",
    "    def sibling(self, name1, name2):\n",
    "        if self.find(name1) and self.find(name2):\n",
    "            return name1 in self.nodes[name2].siblings\n",
    "        else:\n",
    "            raise ValueError(\"One or both nodes do not exist.\")\n",
    "\n",
    "    def is_ancestor(self, ancestor, descendant):\n",
    "        if self.find(ancestor) and self.find(descendant):\n",
    "            while descendant is not None:\n",
    "                if descendant in self.nodes[ancestor].children:\n",
    "                    return True\n",
    "                descendant = self.nodes[descendant].parent\n",
    "            return False\n",
    "        else:\n",
    "            raise ValueError(\"One or both nodes do not exist.\")\n",
    "\n",
    "    def common_Parent(self, name1, name2):\n",
    "        if self.find(name1) and self.find(name2):\n",
    "            ancestors1 = set()\n",
    "            current = name1\n",
    "            while current is not None:\n",
    "                ancestors1.add(current)\n",
    "                current = self.nodes[current].parent\n",
    "\n",
    "            current = name2\n",
    "            while current is not None:\n",
    "                if current in ancestors1:\n",
    "                    return current\n",
    "                current = self.nodes[current].parent\n",
    "        else:\n",
    "            raise ValueError(\"One or both nodes do not exist.\")\n",
    "\n",
    "    def has_relation(self,name1,name2):\n",
    "        if self.find(name1) and self.find(name2):\n",
    "            if self.common_Parent(name1,name2) and not (self.is_ancestor(name1,name2) and self.is_ancestor(name2,name1)):\n",
    "                return True \n",
    "            return False\n",
    "        else:\n",
    "            raise ValueError(\"One or both nodes do not exist.\")\n",
    "\n",
    "    def furthest_child(self, name):\n",
    "        if name in self.nodes:\n",
    "            node = self.nodes[name]\n",
    "\n",
    "            if node.children:\n",
    "                max_depth, furthest_child = max((self.furthest_child(child.name) for child in node.children), key=lambda x: x[0])\n",
    "                return 1 + max_depth, furthest_child\n",
    "            else:\n",
    "                return 0, node\n",
    "        else:\n",
    "            raise ValueError(\"One or both nodes do not exist.\")\n",
    "\n",
    "    def __find_root(self):\n",
    "        for name, node in self.nodes.items():\n",
    "            if node.parent is None:\n",
    "                return name\n",
    "        return None\n",
    "     \n",
    "\n",
    "    def bfs(self, start):\n",
    "        visited = {name: False for name in self.nodes}\n",
    "        distance = {name: 0 for name in self.nodes}\n",
    "        queue = deque([start])\n",
    "        visited[start] = True\n",
    "\n",
    "        while queue:\n",
    "            node = queue.popleft()\n",
    "            for neighbour in self.nodes[node].connections:\n",
    "                if not visited[neighbour.name]:\n",
    "                    queue.append(neighbour.name)\n",
    "                    visited[neighbour.name] = True\n",
    "                    distance[neighbour.name] = distance[node] + 1\n",
    "\n",
    "        max_distance_node = max(distance, key=distance.get)\n",
    "        return max_distance_node, distance[max_distance_node]\n",
    "\n",
    "    def find_diameter(self):\n",
    "        root = self.__find_root()\n",
    "        # First BFS to find one end point of the longest path\n",
    "        node, _ = self.bfs(root)\n",
    "\n",
    "        # Second BFS to find the actual longest path\n",
    "        second_node, diameter = self.bfs(node)\n",
    "\n",
    "        return node,second_node,diameter\n",
    "\n",
    "\n"
   ]
  },
  {
   "cell_type": "markdown",
   "metadata": {},
   "source": []
  },
  {
   "cell_type": "code",
   "execution_count": 28,
   "metadata": {},
   "outputs": [],
   "source": [
    "tree=FamilyTree()\n",
    "tree.add_node('A','B')\n",
    "tree.add_node('B','C')\n",
    "tree.add_node('D','C')\n",
    "tree.add_node('E','D')"
   ]
  },
  {
   "cell_type": "code",
   "execution_count": 25,
   "metadata": {},
   "outputs": [
    {
     "data": {
      "image/png": "[encoded data removed]",
      "text/plain": [
       "<Figure size 640x480 with 1 Axes>"
      ]
     },
     "metadata": {},
     "output_type": "display_data"
    }
   ],
   "source": [
    "import matplotlib.pyplot as plt\n",
    "import networkx as nx\n",
    "\n",
    "def draw_tree():\n",
    " \n",
    "    graph_data = {}\n",
    "    \n",
    "    for name, node in tree.nodes.items():\n",
    "        childs = []\n",
    "        for child in node.children:\n",
    "            childs.append(child.name)\n",
    "        \n",
    "        graph_data[name] = childs\n",
    "        \n",
    "    G = nx.from_dict_of_lists(graph_data, create_using=nx.DiGraph)\n",
    "\n",
    "    pos = nx.spring_layout(G)  \n",
    "    nx.draw(G, pos, with_labels=True, node_size=700, node_color='pink', font_size=10, font_color='black', font_weight='bold', edge_color='gray', linewidths=1, arrowsize=20)\n",
    "\n",
    "    plt.show()\n",
    "\n",
    "draw_tree()  \n",
    "\n"
   ]
  },
  {
   "cell_type": "code",
   "execution_count": 18,
   "metadata": {},
   "outputs": [
    {
     "name": "stdout",
     "output_type": "stream",
     "text": [
      "distance: 2\n",
      "furthest child: E\n"
     ]
    }
   ],
   "source": [
    "dist,node=tree.furthest_child('C')\n",
    "print(f'distance: {dist}')\n",
    "print(f'furthest child: {node.name}')\n",
    "\n"
   ]
  },
  {
   "cell_type": "code",
   "execution_count": 31,
   "metadata": {},
   "outputs": [
    {
     "name": "stdout",
     "output_type": "stream",
     "text": [
      "the furthest relation is between A and E  distance=4\n"
     ]
    }
   ],
   "source": [
    "first,second,dist=tree.find_diameter()\n",
    "\n",
    "print(f'the furthest relation is between {first} and {second}  distance={dist}')\n"
   ]
  }
 ],
 "metadata": {
  "kernelspec": {
   "display_name": "Python 3",
   "language": "python",
   "name": "python3"
  },
  "language_info": {
   "codemirror_mode": {
    "name": "ipython",
    "version": 3
   },
   "file_extension": ".py",
   "mimetype": "text/x-python",
   "name": "python",
   "nbconvert_exporter": "python",
   "pygments_lexer": "ipython3",
   "version": "3.11.1 (tags/v3.11.1:a7a450f, Dec  6 2022, 19:58:39) [MSC v.1934 64 bit (AMD64)]"
  },
  "orig_nbformat": 4,
  "vscode": {
   "interpreter": {
    "hash": "f25e326473684987c1a9369ad828bbb67aca27a5119f6ca26ab51111810f29e9"
   }
  }
 },
 "nbformat": 4,
 "nbformat_minor": 2
}
