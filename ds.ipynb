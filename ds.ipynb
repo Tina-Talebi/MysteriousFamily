{
 "cells": [
  {
   "cell_type": "code",
   "execution_count": 1,
   "metadata": {},
   "outputs": [],
   "source": [
    "# The values for K are is derived from the formula:  abs(sin(i+ 1))×(2**32)\n",
    "K = [\n",
    "0xd76aa478, 0xe8c7b756, 0x242070db, 0xc1bdceee,\n",
    "0xf57c0faf, 0x4787c62a, 0xa8304613, 0xfd469501,\n",
    "0x698098d8, 0x8b44f7af, 0xffff5bb1, 0x895cd7be,\n",
    "0x6b901122, 0xfd987193, 0xa679438e, 0x49b40821,\n",
    "0xf61e2562, 0xc040b340, 0x265e5a51, 0xe9b6c7aa,\n",
    "0xd62f105d, 0x02441453, 0xd8a1e681, 0xe7d3fbc8,\n",
    "0x21e1cde6, 0xc33707d6, 0xf4d50d87, 0x455a14ed,\n",
    "0xa9e3e905, 0xfcefa3f8, 0x676f02d9, 0x8d2a4c8a,\n",
    "0xfffa3942, 0x8771f681, 0x6d9d6122, 0xfde5380c,\n",
    "0xa4beea44, 0x4bdecfa9, 0xf6bb4b60, 0xbebfbc70,\n",
    "0x289b7ec6, 0xeaa127fa, 0xd4ef3085, 0x04881d05,\n",
    "0xd9d4d039, 0xe6db99e5, 0x1fa27cf8, 0xc4ac5665,\n",
    "0xf4292244, 0x432aff97, 0xab9423a7, 0xfc93a039,\n",
    "0x655b59c3, 0x8f0ccc92, 0xffeff47d, 0x85845dd1,\n",
    "0x6fa87e4f, 0xfe2ce6e0, 0xa3014314, 0x4e0811a1,\n",
    "0xf7537e82, 0xbd3af235, 0x2ad7d2bb, 0xeb86d391\n",
    "]"
   ]
  },
  {
   "cell_type": "code",
   "execution_count": 2,
   "metadata": {},
   "outputs": [],
   "source": [
    "# number of shifts\n",
    "shift = [\n",
    "    7, 12, 17, 22,\n",
    "    7, 12, 17, 22,\n",
    "    7, 12, 17, 22,\n",
    "    7, 12, 17, 22,\n",
    "    5, 9, 14, 20,\n",
    "    5, 9, 14, 20,\n",
    "    5, 9, 14, 20,\n",
    "    5, 9, 14, 20,\n",
    "    4, 11, 16, 23,\n",
    "    4, 11, 16, 23,\n",
    "    4, 11, 16, 23,\n",
    "    4, 11, 16, 23,\n",
    "    6, 10, 15, 21,\n",
    "    6, 10, 15, 21,\n",
    "    6, 10, 15, 21,\n",
    "    6, 10, 15, 21\n",
    "]"
   ]
  },
  {
   "cell_type": "code",
   "execution_count": null,
   "metadata": {},
   "outputs": [],
   "source": [
    " "
   ]
  },
  {
   "attachments": {},
   "cell_type": "markdown",
   "metadata": {},
   "source": [
    "The MD5  F, G, H and I functions"
   ]
  },
  {
   "cell_type": "code",
   "execution_count": 3,
   "metadata": {},
   "outputs": [],
   "source": [
    "def F(B, C, D):\n",
    "    return (B & C) | ((~B) & D)\n"
   ]
  },
  {
   "cell_type": "code",
   "execution_count": 4,
   "metadata": {},
   "outputs": [],
   "source": [
    "def G(B,C,D):\n",
    "    return (B & D)| (C & (~D))"
   ]
  },
  {
   "cell_type": "code",
   "execution_count": 5,
   "metadata": {},
   "outputs": [],
   "source": [
    "def H(B, C, D):\n",
    "    return B ^ C ^ D"
   ]
  },
  {
   "cell_type": "code",
   "execution_count": 6,
   "metadata": {},
   "outputs": [],
   "source": [
    "def I(B, C, D):\n",
    "    return C ^ (B | (~D))"
   ]
  },
  {
   "attachments": {},
   "cell_type": "markdown",
   "metadata": {},
   "source": [
    "Modular addition"
   ]
  },
  {
   "cell_type": "code",
   "execution_count": 7,
   "metadata": {},
   "outputs": [],
   "source": [
    "def mod_add(X,Y):\n",
    "    Z=0x100000000\n",
    "    return (X+Y)%Z"
   ]
  },
  {
   "attachments": {},
   "cell_type": "markdown",
   "metadata": {},
   "source": [
    "Left rotate"
   ]
  },
  {
   "cell_type": "code",
   "execution_count": 8,
   "metadata": {},
   "outputs": [],
   "source": [
    "def left_rotate(x, amount):\n",
    "    x &= 0xFFFFFFFF\n",
    "    return ((x<<amount) | (x>>(32-amount))) & 0xFFFFFFFF"
   ]
  },
  {
   "attachments": {},
   "cell_type": "markdown",
   "metadata": {},
   "source": [
    "Round \n",
    "###### m_index=[\n",
    "######  [0,1,2,3,4,5,6,7,8,9,10,11,12,13,14,15],\n",
    "######    [1,6,11,0,5,10,15,4,9,14,3,8,13,2,7,12],\n",
    "######    [5,8,11,14,1,4,7,10,13,0,3,6,9,12,15,2],\n",
    "######    [0,7,14,5,12,3,10,1,8,15,6,13,4,11,2,9]\n",
    "###### ]\n",
    "    "
   ]
  },
  {
   "cell_type": "code",
   "execution_count": 9,
   "metadata": {},
   "outputs": [],
   "source": [
    "def round(A, B, C, D,M, round_num):\n",
    "    for i in range(16):\n",
    "        if round_num == 1:\n",
    "            fun_val = F(B, C, D)\n",
    "            m_index = i\n",
    "        elif round_num == 2:\n",
    "            fun_val = G(B, C, D)\n",
    "            m_index = (5*i + 1) % 16\n",
    "        elif round_num == 3:\n",
    "            fun_val = H(B, C, D)\n",
    "            m_index = (3*i + 2) % 16\n",
    "        else: \n",
    "            fun_val = I(B, C, D)\n",
    "            m_index = (7*i) % 16\n",
    "\n",
    "        fun_val = mod_add(fun_val, A)\n",
    "        fun_val = mod_add(fun_val, K[i + 16*(round_num-1)])\n",
    "        fun_val = mod_add(fun_val, int.from_bytes(M[m_index*4:(m_index+1)*4], byteorder='little'))  #???\n",
    "\n",
    "        new_B = mod_add(B , left_rotate(fun_val, shift[i + 16*(round_num-1)])) \n",
    "        A, B, C, D = D, new_B, B, C\n",
    "\n",
    "    return A, B, C, D"
   ]
  },
  {
   "attachments": {},
   "cell_type": "markdown",
   "metadata": {},
   "source": [
    "implement MD5 algorithm"
   ]
  },
  {
   "cell_type": "code",
   "execution_count": 10,
   "metadata": {},
   "outputs": [],
   "source": [
    "def MD5(message):\n",
    "    # Convert the string to binary\n",
    "    bin_string = ''.join(format(ord(c), '08b') for c in message)\n",
    "    \n",
    "    # Add padding\n",
    "    bin_string += '1'\n",
    "    len_bits = len(bin_string)\n",
    "    padding_needed = (448 - len_bits) % 512\n",
    "    bin_string += '0' * padding_needed\n",
    "    \n",
    "    # Add length\n",
    "    original_length = format(len(message) * 8, '064b')\n",
    "    bin_string += original_length\n",
    "\n",
    "    padded_message = bin_string\n",
    "\n",
    "    # Convert the binary string to bytes\n",
    "    message_bytes = int(padded_message, 2).to_bytes(len(padded_message) // 8, byteorder='little')\n",
    "\n",
    "    # initialization vectors \n",
    "    A =0x01234567\n",
    "    B =0x89abcdef\n",
    "    C =0xfedcba98\n",
    "    D =0x76543210\n",
    "  \n",
    "\n",
    "    # Process each 512-bit chunk\n",
    "    for i in range(0, len(message_bytes), 64):\n",
    "        M = message_bytes[i:i+64]\n",
    "        A_temp, B_temp, C_temp, D_temp = A, B, C, D\n",
    "        for round_num in range(1, 5):\n",
    "            A_temp, B_temp, C_temp, D_temp = round(A_temp, B_temp, C_temp, D_temp, M, round_num)\n",
    "            A = mod_add(A,A_temp)\n",
    "            B = mod_add(B,B_temp)\n",
    "            C = mod_add(C,C_temp)\n",
    "            D = mod_add(D,D_temp)\n",
    "           \n",
    "    \n",
    "    return (A.to_bytes(4, byteorder='little') +\n",
    "            B.to_bytes(4, byteorder='little') +\n",
    "            C.to_bytes(4, byteorder='little') +\n",
    "            D.to_bytes(4, byteorder='little')).hex()\n"
   ]
  },
  {
   "attachments": {},
   "cell_type": "markdown",
   "metadata": {},
   "source": [
    "Round1 "
   ]
  },
  {
   "cell_type": "code",
   "execution_count": 11,
   "metadata": {},
   "outputs": [
    {
     "name": "stdout",
     "output_type": "stream",
     "text": [
      "b4f856ba28e0f321c8ac403aeed06b14\n"
     ]
    }
   ],
   "source": [
    "print(MD5('They are deterministic'))\n",
    "    "
   ]
  },
  {
   "cell_type": "code",
   "execution_count": 12,
   "metadata": {},
   "outputs": [
    {
     "name": "stdout",
     "output_type": "stream",
     "text": [
      "23db6982caef9e9152f1a5b2589e6ca3\n"
     ]
    }
   ],
   "source": [
    "import hashlib\n",
    "\n",
    "# Input string\n",
    "str = 'They are deterministic'\n",
    "\n",
    "# Encode the string\n",
    "str = str.encode()\n",
    "\n",
    "# Calculate MD5 hash\n",
    "hash_object = hashlib.md5(str)\n",
    "\n",
    "# Get the hexadecimal representation of the hash\n",
    "hash_value = hash_object.hexdigest()\n",
    "\n",
    "print(hash_value)\n"
   ]
  }
 ],
 "metadata": {
  "kernelspec": {
   "display_name": "Python 3",
   "language": "python",
   "name": "python3"
  },
  "language_info": {
   "codemirror_mode": {
    "name": "ipython",
    "version": 3
   },
   "file_extension": ".py",
   "mimetype": "text/x-python",
   "name": "python",
   "nbconvert_exporter": "python",
   "pygments_lexer": "ipython3",
   "version": "3.11.1"
  },
  "orig_nbformat": 4,
  "vscode": {
   "interpreter": {
    "hash": "f25e326473684987c1a9369ad828bbb67aca27a5119f6ca26ab51111810f29e9"
   }
  }
 },
 "nbformat": 4,
 "nbformat_minor": 2
}
